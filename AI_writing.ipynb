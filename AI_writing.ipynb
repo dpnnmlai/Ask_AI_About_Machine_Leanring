{
 "cells": [
  {
   "cell_type": "code",
   "execution_count": null,
   "id": "56afbdc4",
   "metadata": {},
   "outputs": [],
   "source": [
    "from transformers import AutoModelForQuestionAnswering, AutoTokenizer, pipeline"
   ]
  },
  {
   "cell_type": "code",
   "execution_count": null,
   "id": "8fd750e4",
   "metadata": {},
   "outputs": [],
   "source": [
    "\n",
    "# Creating the Pipeline \n",
    "\n",
    "nlp = pipeline('question-answering', model='deepset/roberta-base-squad2', tokenizer='deepset/roberta-base-squad2')"
   ]
  },
  {
   "cell_type": "code",
   "execution_count": null,
   "id": "9b4f586d",
   "metadata": {},
   "outputs": [],
   "source": [
    "# Contectual text or corpus\n",
    "\n",
    "wikipedia_text = \"\"\"\n",
    "    Machine learning is a branch of artificial intelligence (AI) and computer science which focuses on the use of data and algorithms to imitate the way that humans learn, gradually improving its accuracy. #15 Machine learning is an important component of the growing field of data science. Through the use of statistical methods, algorithms are trained to make classifications or predictions, and to uncover key insights in data mining projects. These insights subsequently drive decision making within applications and businesses, ideally impacting key growth metrics. As big data continues to expand and grow, the market demand for data scientists will increase. They will be required to help identify the most relevant business questions and the data to answer them.\n",
    "\n",
    "Machine learning algorithms are typically created using frameworks that accelerate solution development, such as TensorFlow and PyTorch.\n",
    "Machine learning methods\n",
    "Machine learning models fall into three primary categories.\n",
    "\n",
    "Supervised machine learning            \n",
    "Supervised learning, also known as supervised machine learning, is defined by its use of labeled datasets to train algorithms to classify data or predict outcomes accurately. As input data is fed into the model, the model adjusts its weights until it has been fitted appropriately. This occurs as part of the cross validation process to ensure that the model avoids overfitting or underfitting. Supervised learning helps organizations solve a variety of real-world problems at scale, such as classifying spam in a separate folder from your inbox. Some methods used in supervised learning include neural networks, naïve bayes, linear regression, logistic regression, random forest, and support vector machine (SVM).\n",
    "\n",
    "Unsupervised machine learning\n",
    "Unsupervised learning, also known as unsupervised machine learning, uses machine learning algorithms to analyze and cluster unlabeled datasets. These algorithms discover hidden patterns or data groupings without the need for human intervention. This method’s ability to discover similarities and differences in information make it ideal for exploratory data analysis, cross-selling strategies, customer segmentation, and image and pattern recognition. It’s also used to reduce the number of features in a model through the process of dimensionality reduction. Principal component analysis (PCA) and singular value decomposition (SVD) are two common approaches for this. Other algorithms used in unsupervised learning include neural networks, k-means clustering, and probabilistic clustering methods.\n",
    "\n",
    "Semi-supervised learning \n",
    "Semi-supervised learning offers a happy medium between supervised and unsupervised learning. During training, it uses a smaller labeled data set to guide classification and feature extraction from a larger, unlabeled data set. Semi-supervised learning can solve the problem of not having enough labeled data for a supervised learning algorithm. It also helps if it’s too costly to label enough data. \n",
    "\"\"\""
   ]
  },
  {
   "cell_type": "code",
   "execution_count": null,
   "id": "ff474bbc",
   "metadata": {},
   "outputs": [],
   "source": [
    "# Define Question set \n",
    "gues_set = {\n",
    "    'question': 'What is Machine Learning?',\n",
    "    'context' :wikipedia_text\n",
    "}"
   ]
  },
  {
   "cell_type": "code",
   "execution_count": null,
   "id": "36618775",
   "metadata": {},
   "outputs": [],
   "source": [
    "result = nlp(gues_set)"
   ]
  },
  {
   "cell_type": "code",
   "execution_count": null,
   "id": "e8097e08",
   "metadata": {},
   "outputs": [],
   "source": [
    "result['answer']"
   ]
  },
  {
   "cell_type": "code",
   "execution_count": null,
   "id": "6b3176e4",
   "metadata": {},
   "outputs": [],
   "source": []
  },
  {
   "cell_type": "code",
   "execution_count": null,
   "id": "604ebf41",
   "metadata": {},
   "outputs": [],
   "source": []
  }
 ],
 "metadata": {
  "kernelspec": {
   "display_name": "Python 3 (ipykernel)",
   "language": "python",
   "name": "python3"
  },
  "language_info": {
   "codemirror_mode": {
    "name": "ipython",
    "version": 3
   },
   "file_extension": ".py",
   "mimetype": "text/x-python",
   "name": "python",
   "nbconvert_exporter": "python",
   "pygments_lexer": "ipython3",
   "version": "3.10.6"
  }
 },
 "nbformat": 4,
 "nbformat_minor": 5
}
